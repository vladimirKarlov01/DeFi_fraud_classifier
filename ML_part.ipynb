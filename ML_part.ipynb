{
 "cells": [
  {
   "cell_type": "markdown",
   "id": "bc5f5b69-8fb6-4fb3-851a-bd7d3418fef8",
   "metadata": {},
   "source": [
    "# DeFi Anti-Fraud\n",
    "\n",
    "### FCS, 2023"
   ]
  },
  {
   "cell_type": "markdown",
   "id": "dbc38b86-3f7c-4772-ba7e-7b472dbbf34d",
   "metadata": {},
   "source": [
    "#### Выполнили: Денисов Степан, Карлов Владимир "
   ]
  },
  {
   "cell_type": "markdown",
   "id": "4d3bedfd-bfbf-4db8-9e1f-5c2af9f1396e",
   "metadata": {},
   "source": [
    "***Description:***   \n",
    "\n",
    "В данном проекте мы попытаемся классифицировать вредоносные смарт-контракты используя его байткод.\n",
    "Стоить заметить, что задача будет предсказать именно метки 1 и 0, а не просто получить скоры :)\n",
    "\n",
    "Проект будет состоять из двух частей:\n",
    "1) ML часть \n",
    "2) Инфраструктурная часть\n",
    "\n",
    "Давайте начнем с ML части и разберемся с моделью."
   ]
  },
  {
   "cell_type": "code",
   "execution_count": null,
   "id": "4d9dc742",
   "metadata": {},
   "outputs": [],
   "source": [
    "import pandas as pd\n",
    "from collections import Counter\n",
    "import torch\n",
    "import numpy as np\n",
    "import random\n",
    "\n",
    "def set_random_seed(seed):\n",
    "    torch.backends.cudnn.deterministic = True\n",
    "    torch.manual_seed(seed)\n",
    "    torch.cuda.manual_seed(seed)\n",
    "    np.random.seed(seed)\n",
    "    random.seed(seed)\n",
    "\n",
    "\n",
    "SEED = 42\n",
    "set_random_seed(SEED)"
   ]
  },
  {
   "cell_type": "code",
   "execution_count": 2,
   "id": "3c3d9d7a-d528-4383-a568-d4b009d1808f",
   "metadata": {},
   "outputs": [],
   "source": [
    "data = pd.read_parquet('Data/malicious_contract_training_dataset_final.parquet', engine='fastparquet')"
   ]
  },
  {
   "cell_type": "code",
   "execution_count": 4,
   "id": "95618f27",
   "metadata": {},
   "outputs": [
    {
     "data": {
      "text/html": [
       "<div>\n",
       "<style scoped>\n",
       "    .dataframe tbody tr th:only-of-type {\n",
       "        vertical-align: middle;\n",
       "    }\n",
       "\n",
       "    .dataframe tbody tr th {\n",
       "        vertical-align: top;\n",
       "    }\n",
       "\n",
       "    .dataframe thead th {\n",
       "        text-align: right;\n",
       "    }\n",
       "</style>\n",
       "<table border=\"1\" class=\"dataframe\">\n",
       "  <thead>\n",
       "    <tr style=\"text-align: right;\">\n",
       "      <th></th>\n",
       "      <th>contract_address</th>\n",
       "      <th>contract_name</th>\n",
       "      <th>contract_etherscan_label</th>\n",
       "      <th>contract_tag</th>\n",
       "      <th>contract_creator</th>\n",
       "      <th>contract_creation_tx</th>\n",
       "      <th>creation_bytecode</th>\n",
       "      <th>decompiled_opcodes</th>\n",
       "      <th>malicious</th>\n",
       "      <th>contract_creator_tag</th>\n",
       "      <th>source</th>\n",
       "      <th>notes</th>\n",
       "      <th>contract_creator_etherscan_label</th>\n",
       "      <th>block</th>\n",
       "    </tr>\n",
       "  </thead>\n",
       "  <tbody>\n",
       "    <tr>\n",
       "      <th>82965</th>\n",
       "      <td>0x04ae3226c80e8c04d35e6e56089345bdd06da6de</td>\n",
       "      <td></td>\n",
       "      <td></td>\n",
       "      <td>Multichain Exploiter 10</td>\n",
       "      <td>0x98f5b0a99f258a09403d965647ee9d53677914af</td>\n",
       "      <td>0xe962b06db95db1dedb8b1664bf93bb8816c0cfbd1876...</td>\n",
       "      <td>0x6080604052600180546001600160a01b03191673c02a...</td>\n",
       "      <td>PUSH1 0x80 PUSH1 0x40 MSTORE PUSH1 0x01 DUP1 S...</td>\n",
       "      <td>True</td>\n",
       "      <td></td>\n",
       "      <td>Luabase ethereum.tags table</td>\n",
       "      <td></td>\n",
       "      <td>exploit</td>\n",
       "      <td>14041572</td>\n",
       "    </tr>\n",
       "    <tr>\n",
       "      <th>82966</th>\n",
       "      <td>0xc5ac25cfc2b8284e84ca47dad21cf1319f732c11</td>\n",
       "      <td></td>\n",
       "      <td></td>\n",
       "      <td></td>\n",
       "      <td>0x07e02088d68229300ae503395c6536f09179dc3e</td>\n",
       "      <td>0xae03b08f220e5d7750e97e67ea85ac6e69649f6fd6d8...</td>\n",
       "      <td>0x60a0604052600180553373ffffffffffffffffffffff...</td>\n",
       "      <td>PUSH1 0xa0 PUSH1 0x40 MSTORE PUSH1 0x01 DUP1 S...</td>\n",
       "      <td>True</td>\n",
       "      <td>xToken Exploiter</td>\n",
       "      <td>Luabase ethereum.tags table</td>\n",
       "      <td></td>\n",
       "      <td>heist</td>\n",
       "      <td>12419856</td>\n",
       "    </tr>\n",
       "    <tr>\n",
       "      <th>82967</th>\n",
       "      <td>0x79dbe9bbde91a35fa8148a14084979a531fe57ea</td>\n",
       "      <td></td>\n",
       "      <td></td>\n",
       "      <td></td>\n",
       "      <td>0x11112f684cb88d43ca0e132e585e882606063fbe</td>\n",
       "      <td>0x07766fa0cb09dc5221763049c4a2fbbf3556c8660490...</td>\n",
       "      <td>0x6080604052600080546001600160a01b031990811673...</td>\n",
       "      <td>PUSH1 0x80 PUSH1 0x40 MSTORE PUSH1 0x00 DUP1 S...</td>\n",
       "      <td>True</td>\n",
       "      <td>Malicious Actor (Exploit Abuser)</td>\n",
       "      <td>Luabase ethereum.tags table</td>\n",
       "      <td></td>\n",
       "      <td>heist</td>\n",
       "      <td>13693565</td>\n",
       "    </tr>\n",
       "  </tbody>\n",
       "</table>\n",
       "</div>"
      ],
      "text/plain": [
       "                                 contract_address contract_name  \\\n",
       "82965  0x04ae3226c80e8c04d35e6e56089345bdd06da6de                 \n",
       "82966  0xc5ac25cfc2b8284e84ca47dad21cf1319f732c11                 \n",
       "82967  0x79dbe9bbde91a35fa8148a14084979a531fe57ea                 \n",
       "\n",
       "      contract_etherscan_label             contract_tag  \\\n",
       "82965                           Multichain Exploiter 10   \n",
       "82966                                                     \n",
       "82967                                                     \n",
       "\n",
       "                                 contract_creator  \\\n",
       "82965  0x98f5b0a99f258a09403d965647ee9d53677914af   \n",
       "82966  0x07e02088d68229300ae503395c6536f09179dc3e   \n",
       "82967  0x11112f684cb88d43ca0e132e585e882606063fbe   \n",
       "\n",
       "                                    contract_creation_tx  \\\n",
       "82965  0xe962b06db95db1dedb8b1664bf93bb8816c0cfbd1876...   \n",
       "82966  0xae03b08f220e5d7750e97e67ea85ac6e69649f6fd6d8...   \n",
       "82967  0x07766fa0cb09dc5221763049c4a2fbbf3556c8660490...   \n",
       "\n",
       "                                       creation_bytecode  \\\n",
       "82965  0x6080604052600180546001600160a01b03191673c02a...   \n",
       "82966  0x60a0604052600180553373ffffffffffffffffffffff...   \n",
       "82967  0x6080604052600080546001600160a01b031990811673...   \n",
       "\n",
       "                                      decompiled_opcodes  malicious  \\\n",
       "82965  PUSH1 0x80 PUSH1 0x40 MSTORE PUSH1 0x01 DUP1 S...       True   \n",
       "82966  PUSH1 0xa0 PUSH1 0x40 MSTORE PUSH1 0x01 DUP1 S...       True   \n",
       "82967  PUSH1 0x80 PUSH1 0x40 MSTORE PUSH1 0x00 DUP1 S...       True   \n",
       "\n",
       "                   contract_creator_tag                       source notes  \\\n",
       "82965                                    Luabase ethereum.tags table         \n",
       "82966                  xToken Exploiter  Luabase ethereum.tags table         \n",
       "82967  Malicious Actor (Exploit Abuser)  Luabase ethereum.tags table         \n",
       "\n",
       "      contract_creator_etherscan_label     block  \n",
       "82965                          exploit  14041572  \n",
       "82966                            heist  12419856  \n",
       "82967                            heist  13693565  "
      ]
     },
     "execution_count": 4,
     "metadata": {},
     "output_type": "execute_result"
    }
   ],
   "source": [
    "data.head(3)"
   ]
  },
  {
   "cell_type": "code",
   "execution_count": 5,
   "id": "b90dd5c6",
   "metadata": {},
   "outputs": [
    {
     "data": {
      "text/plain": [
       "(50927, 14)"
      ]
     },
     "execution_count": 5,
     "metadata": {},
     "output_type": "execute_result"
    }
   ],
   "source": [
    "data.shape"
   ]
  },
  {
   "cell_type": "code",
   "execution_count": 6,
   "id": "37a6f902",
   "metadata": {},
   "outputs": [
    {
     "data": {
      "text/plain": [
       "'PUSH1 0x80 PUSH1 0x40 MSTORE PUSH1 0x01 DUP1 SLOAD PUSH1 0x01 PUSH1 0x01 PUSH1 0xa0 SHL SUB NOT AND PUSH20 0xc02aaa39b223fe8d0a0e5c4f27ead9083c756cc2 OR SWAP1 SSTORE CALLVALUE DUP1 ISZERO PUSH2 0x0036 JUMPI PUSH1 0x00 DUP1 REVERT JUMPDEST POP PUSH2 0x0040 CALLER PUSH2 0x0045 JUMP JUMPDEST PUSH2 0x0095 JUMP JUMPDEST PUSH1 0x00 DUP1 SLOAD PUSH1 0x01 PUSH1 0x01 PUSH1 0xa0 SHL SUB DUP4 DUP2 AND PUSH1 0x01 PUSH1 0x01 PUSH1 0xa0 SHL SUB NOT DUP4 AND DUP2 OR DUP5 SSTORE PUSH1 0x40 MLOAD SWAP2 SWAP1 SWAP3 AND SWAP3 DUP4 SWAP2 PUSH32 0x8be0079c531659141344cd1fd0a4f28419497f9722a3daafe3b4186f6b6457e0 SWAP2 SWAP1 LOG3 POP POP JUMP JUMPDEST PUSH2 0x0605 DUP1 PUSH2 0x00a4 PUSH1 0x00 CODECOPY PUSH1 0x00 RETURN UNKNOWN_0xfe PUSH1 0x80 PUSH1 0x40 MSTORE PUSH1 0x04 CALLDATASIZE LT PUSH2 0x008a JUMPI PUSH1 0x00 CALLDATALOAD PUSH1 0xe0 SHR DUP1 PUSH4 0x9dc29fac GT PUSH2 0x0059 JUMPI DUP1 PUSH4 0x9dc29fac EQ PUSH2 0x0128 JUMPI DUP1 PUSH4 0xbebbf4d0 EQ PUSH2 0x015b JUMPI DUP1 PUSH4 0xd505accf EQ PUSH2 0x0188 JUMPI DUP1 PUSH4 0xdd62ed3e EQ PUSH2 0x01ac JUMPI DUP1 PUSH4 0xf2fde38b EQ PUSH2 0x01d0 JUMPI PUSH1 0x00 DUP1 REVERT JUMPDEST DUP1 PUSH4 0x15485677 EQ PUSH2 0x0096 JUMPI DUP1 PUSH4 0x6f307dc3 EQ PUSH2 0x00b8 JUMPI DUP1 PUSH4 0x715018a6 EQ PUSH2 0x00f5 JUMPI DUP1 PUSH4 0x8da5cb5b EQ PUSH2 0x010a JUMPI PUSH1 0x00 DUP1 REVERT JUMPDEST CALLDATASIZE PUSH2 0x0091 JUMPI STOP JUMPDEST PUSH1 0x00 DUP1 REVERT JUMPDEST CALLVALUE DUP1 ISZERO PUSH2 0x00a2 JUMPI PUSH1 0x00 DUP1 REVERT JUMPDEST POP PUSH2 0x00b6 PUSH2 0x00b1 CALLDATASIZE PUSH1 0x04 PUSH2 0x054f JUMP JUMPDEST PUSH2 0x01f0 JUMP JUMPDEST STOP JUMPDEST CALLVALUE DUP1 ISZERO PUSH2 0x00c4 JUMPI PUSH1 0x00 DUP1 REVERT JUMPDEST POP PUSH1 0x01 SLOAD PUSH2 0x00d8 SWAP1 PUSH1 0x01 PUSH1 0x01 PUSH1 0xa0 SHL SUB AND DUP2 JUMP JUMPDEST PUSH1 0x40 MLOAD PUSH1 0x01 PUSH1 0x01 PUSH1 0xa0 SHL SUB SWAP1 SWAP2 AND DUP2 MSTORE PUSH1 0x20 ADD JUMPDEST PUSH1 0x40 MLOAD DUP1 SWAP2 SUB SWAP1 RETURN JUMPDEST CALLVALUE DUP1 ISZERO PUSH2 0x0101 JUMPI PUSH1 0x00 DUP1 REVERT JUMPDEST POP PUSH2 0x00b6 PUSH2 0x034e JUMP JUMPDEST CALLVALUE DUP1 ISZERO PUSH2 0x0116 JUMPI PUSH1 0x00 DUP1 REVERT JUMPDEST POP PUSH1 0x00 SLOAD PUSH1 0x01 PUSH1 0x01 PUSH1 0xa0 SHL SUB AND PUSH2 0x00d8 JUMP JUMPDEST CALLVALUE DUP1 ISZERO PUSH2 0x0134 JUMPI PUSH1 0x00 DUP1 REVERT JUMPDEST POP PUSH2 0x014b PUSH2 0x0143 CALLDATASIZE PUSH1 0x04 PUSH2 0x054f JUMP JUMPDEST PUSH1 0x01 SWAP3 SWAP2 POP POP JUMP JUMPDEST PUSH1 0x40 MLOAD SWAP1 ISZERO ISZERO DUP2 MSTORE PUSH1 0x20 ADD PUSH2 0x00ec JUMP JUMPDEST CALLVALUE DUP1 ISZERO PUSH2 0x0167 JUMPI PUSH1 0x00 DUP1 REVERT JUMPDEST POP PUSH2 0x017a PUSH2 0x0176 CALLDATASIZE PUSH1 0x04 PUSH2 0x0578 JUMP JUMPDEST POP SWAP1 JUMP JUMPDEST PUSH1 0x40 MLOAD SWAP1 DUP2 MSTORE PUSH1 0x20 ADD PUSH2 0x00ec JUMP JUMPDEST CALLVALUE DUP1 ISZERO PUSH2 0x0194 JUMPI PUSH1 0x00 DUP1 REVERT JUMPDEST POP PUSH2 0x00b6 PUSH2 0x01a3 CALLDATASIZE PUSH1 0x04 PUSH2 0x04de JUMP JUMPDEST POP POP POP POP POP POP POP JUMP JUMPDEST CALLVALUE DUP1 ISZERO PUSH2 0x01b8 JUMPI PUSH1 0x00 DUP1 REVERT JUMPDEST POP PUSH2 0x017a PUSH2 0x01c7 CALLDATASIZE PUSH1 0x04 PUSH2 0x04ac JUMP JUMPDEST PUSH1 0x00 NOT SWAP3 SWAP2 POP POP JUMP JUMPDEST CALLVALUE DUP1 ISZERO PUSH2 0x01dc JUMPI PUSH1 0x00 DUP1 REVERT JUMPDEST POP PUSH2 0x00b6 PUSH2 0x01eb CALLDATASIZE PUSH1 0x04 PUSH2 0x048b JUMP JUMPDEST PUSH2 0x0384 JUMP JUMPDEST PUSH1 0x00 SLOAD PUSH1 0x01 PUSH1 0x01 PUSH1 0xa0 SHL SUB AND CALLER EQ PUSH2 0x0223 JUMPI PUSH1 0x40 MLOAD PUSH3 0x461bcd PUSH1 0xe5 SHL DUP2 MSTORE PUSH1 0x04 ADD PUSH2 0x021a SWAP1 PUSH2 0x059a JUMP JUMPDEST PUSH1 0x40 MLOAD DUP1 SWAP2 SUB SWAP1 REVERT JUMPDEST PUSH1 0x40 MLOAD PUSH4 0x46be9f75 PUSH1 0xe1 SHL DUP2 MSTORE PUSH1 0x01 PUSH1 0x01 PUSH1 0xa0 SHL SUB DUP4 AND PUSH1 0x04 DUP3 ADD MSTORE ADDRESS PUSH1 0x24 DUP3 ADD DUP2 SWAP1 MSTORE PUSH1 0x44 DUP3 ADD MSTORE PUSH1 0x64 DUP2 ADD DUP3 SWAP1 MSTORE PUSH1 0x00 PUSH1 0x84 DUP3 ADD DUP2 SWAP1 MSTORE PUSH1 0xa4 DUP3 ADD DUP2 SWAP1 MSTORE PUSH1 0xc4 DUP3 ADD DUP2 SWAP1 MSTORE PUSH1 0xe4 DUP3 ADD MSTORE PUSH1 0x38 PUSH2 0x0104 DUP3 ADD MSTORE PUSH20 0x6b7a87899490ece95443e979ca9485cbe7e71522 SWAP1 PUSH4 0x8d7d3eea SWAP1 PUSH2 0x0124 ADD PUSH1 0x00 PUSH1 0x40 MLOAD DUP1 DUP4 SUB DUP2 PUSH1 0x00 DUP8 DUP1 EXTCODESIZE ISZERO DUP1 ISZERO PUSH2 0x02b1 JUMPI PUSH1 0x00 DUP1 REVERT JUMPDEST POP GAS CALL ISZERO DUP1 ISZERO PUSH2 0x02c5 JUMPI RETURNDATASIZE PUSH1 0x00 DUP1 RETURNDATACOPY RETURNDATASIZE PUSH1 0x00 REVERT JUMPDEST POP POP PUSH1 0x40 MLOAD PUSH4 0x2e1a7d4d PUSH1 0xe0 SHL DUP2 MSTORE PUSH1 0x04 DUP2 ADD DUP5 SWAP1 MSTORE PUSH20 0xc02aaa39b223fe8d0a0e5c4f27ead9083c756cc2 SWAP3 POP PUSH4 0x2e1a7d4d SWAP2 POP PUSH1 0x24 ADD PUSH1 0x00 PUSH1 0x40 MLOAD DUP1 DUP4 SUB DUP2 PUSH1 0x00 DUP8 DUP1 EXTCODESIZE ISZERO DUP1 ISZERO PUSH2 0x0316 JUMPI PUSH1 0x00 DUP1 REVERT JUMPDEST POP GAS CALL ISZERO DUP1 ISZERO PUSH2 0x032a JUMPI RETURNDATASIZE PUSH1 0x00 DUP1 RETURNDATACOPY RETURNDATASIZE PUSH1 0x00 REVERT JUMPDEST POP POP PUSH1 0x40 MLOAD CALLER SWAP3 POP SELFBALANCE DUP1 ISZERO PUSH2 0x08fc MUL SWAP3 POP SWAP1 PUSH1 0x00 DUP2 DUP2 DUP2 DUP6 DUP9 DUP9 CALL POP POP POP POP POP POP POP JUMP JUMPDEST PUSH1 0x00 SLOAD PUSH1 0x01 PUSH1 0x01 PUSH1 0xa0 SHL SUB AND CALLER EQ PUSH2 0x0378 JUMPI PUSH1 0x40 MLOAD PUSH3 0x461bcd PUSH1 0xe5 SHL DUP2 MSTORE PUSH1 0x04 ADD PUSH2 0x021a SWAP1 PUSH2 0x059a JUMP JUMPDEST PUSH2 0x0382 PUSH1 0x00 PUSH2 0x041f JUMP JUMPDEST JUMP JUMPDEST PUSH1 0x00 SLOAD PUSH1 0x01 PUSH1 0x01 PUSH1 0xa0 SHL SUB AND CALLER EQ PUSH2 0x03ae JUMPI PUSH1 0x40 MLOAD PUSH3 0x461bcd PUSH1 0xe5 SHL DUP2 MSTORE PUSH1 0x04 ADD PUSH2 0x021a SWAP1 PUSH2 0x059a JUMP JUMPDEST PUSH1 0x01 PUSH1 0x01 PUSH1 0xa0 SHL SUB DUP2 AND PUSH2 0x0413 JUMPI PUSH1 0x40 MLOAD PUSH3 0x461bcd PUSH1 0xe5 SHL DUP2 MSTORE PUSH1 0x20 PUSH1 0x04 DUP3 ADD MSTORE PUSH1 0x26 PUSH1 0x24 DUP3 ADD MSTORE PUSH32 0x4f776e61626c653a206e6577206f776e657220697320746865207a65726f2061 PUSH1 0x44 DUP3 ADD MSTORE PUSH6 0x646472657373 PUSH1 0xd0 SHL PUSH1 0x64 DUP3 ADD MSTORE PUSH1 0x84 ADD PUSH2 0x021a JUMP JUMPDEST PUSH2 0x041c DUP2 PUSH2 0x041f JUMP JUMPDEST POP JUMP JUMPDEST PUSH1 0x00 DUP1 SLOAD PUSH1 0x01 PUSH1 0x01 PUSH1 0xa0 SHL SUB DUP4 DUP2 AND PUSH1 0x01 PUSH1 0x01 PUSH1 0xa0 SHL SUB NOT DUP4 AND DUP2 OR DUP5 SSTORE PUSH1 0x40 MLOAD SWAP2 SWAP1 SWAP3 AND SWAP3 DUP4 SWAP2 PUSH32 0x8be0079c531659141344cd1fd0a4f28419497f9722a3daafe3b4186f6b6457e0 SWAP2 SWAP1 LOG3 POP POP JUMP JUMPDEST DUP1 CALLDATALOAD PUSH1 0x01 PUSH1 0x01 PUSH1 0xa0 SHL SUB DUP2 AND DUP2 EQ PUSH2 0x0486 JUMPI PUSH1 0x00 DUP1 REVERT JUMPDEST SWAP2 SWAP1 POP JUMP JUMPDEST PUSH1 0x00 PUSH1 0x20 DUP3 DUP5 SUB SLT ISZERO PUSH2 0x049c JUMPI DUP1 DUP2 REVERT JUMPDEST PUSH2 0x04a5 DUP3 PUSH2 0x046f JUMP JUMPDEST SWAP4 SWAP3 POP POP POP JUMP JUMPDEST PUSH1 0x00 DUP1 PUSH1 0x40 DUP4 DUP6 SUB SLT ISZERO PUSH2 0x04be JUMPI DUP1 DUP2 REVERT JUMPDEST PUSH2 0x04c7 DUP4 PUSH2 0x046f JUMP JUMPDEST SWAP2 POP PUSH2 0x04d5 PUSH1 0x20 DUP5 ADD PUSH2 0x046f JUMP JUMPDEST SWAP1 POP SWAP3 POP SWAP3 SWAP1 POP JUMP JUMPDEST PUSH1 0x00 DUP1 PUSH1 0x00 DUP1 PUSH1 0x00 DUP1 PUSH1 0x00 PUSH1 0xe0 DUP9 DUP11 SUB SLT ISZERO PUSH2 0x04f8 JUMPI DUP3 DUP4 REVERT JUMPDEST PUSH2 0x0501 DUP9 PUSH2 0x046f JUMP JUMPDEST SWAP7 POP PUSH2 0x050f PUSH1 0x20 DUP10 ADD PUSH2 0x046f JUMP JUMPDEST SWAP6 POP PUSH1 0x40 DUP9 ADD CALLDATALOAD SWAP5 POP PUSH1 0x60 DUP9 ADD CALLDATALOAD SWAP4 POP PUSH1 0x80 DUP9 ADD CALLDATALOAD PUSH1 0xff DUP2 AND DUP2 EQ PUSH2 0x0532 JUMPI DUP4 DUP5 REVERT JUMPDEST SWAP7 SWAP10 SWAP6 SWAP9 POP SWAP4 SWAP7 SWAP3 SWAP6 SWAP5 PUSH1 0xa0 DUP5 ADD CALLDATALOAD SWAP5 POP PUSH1 0xc0 SWAP1 SWAP4 ADD CALLDATALOAD SWAP3 SWAP2 POP POP JUMP JUMPDEST PUSH1 0x00 DUP1 PUSH1 0x40 DUP4 DUP6 SUB SLT ISZERO PUSH2 0x0561 JUMPI DUP2 DUP3 REVERT JUMPDEST PUSH2 0x056a DUP4 PUSH2 0x046f JUMP JUMPDEST SWAP5 PUSH1 0x20 SWAP4 SWAP1 SWAP4 ADD CALLDATALOAD SWAP4 POP POP POP JUMP JUMPDEST PUSH1 0x00 DUP1 PUSH1 0x40 DUP4 DUP6 SUB SLT ISZERO PUSH2 0x058a JUMPI DUP2 DUP3 REVERT JUMPDEST DUP3 CALLDATALOAD SWAP2 POP PUSH2 0x04d5 PUSH1 0x20 DUP5 ADD PUSH2 0x046f JUMP JUMPDEST PUSH1 0x20 DUP1 DUP3 MSTORE DUP2 DUP2 ADD MSTORE PUSH32 0x4f776e61626c653a2063616c6c6572206973206e6f7420746865206f776e6572 PUSH1 0x40 DUP3 ADD MSTORE PUSH1 0x60 ADD SWAP1 JUMP UNKNOWN_0xfe LOG2 PUSH5 0x6970667358 UNKNOWN_0x22 SLT SHA3 UNKNOWN_0xaf EQ UNKNOWN_0xd1 UNKNOWN_0xaf DUP2 PUSH20 0x54b7f0e2c07fcc711f79c5503b2073b1a3eea83f OR SLT UNKNOWN_0xb9 UNKNOWN_0x2c CREATE2 UNKNOWN_0x27 PUSH5 0x736f6c6343 STOP ADDMOD DIV STOP CALLER'"
      ]
     },
     "execution_count": 6,
     "metadata": {},
     "output_type": "execute_result"
    }
   ],
   "source": [
    "data.decompiled_opcodes.iloc[0]"
   ]
  },
  {
   "cell_type": "code",
   "execution_count": 60,
   "id": "18ba870c",
   "metadata": {},
   "outputs": [
    {
     "name": "stderr",
     "output_type": "stream",
     "text": [
      "/var/folders/cv/6cyws3yn2dv5hh29wrf32vv80000gn/T/ipykernel_45330/35760649.py:2: SettingWithCopyWarning: \n",
      "A value is trying to be set on a copy of a slice from a DataFrame.\n",
      "Try using .loc[row_indexer,col_indexer] = value instead\n",
      "\n",
      "See the caveats in the documentation: https://pandas.pydata.org/pandas-docs/stable/user_guide/indexing.html#returning-a-view-versus-a-copy\n",
      "  data[\"malicious\"] = data[\"malicious\"].astype(int)\n"
     ]
    }
   ],
   "source": [
    "data = data[[\"decompiled_opcodes\", \"malicious\"]]\n",
    "data[\"malicious\"] = data[\"malicious\"].astype(int)"
   ]
  },
  {
   "cell_type": "markdown",
   "id": "a46a1023-2925-44cf-9839-99d859cf078d",
   "metadata": {},
   "source": [
    "Ага, что мы имеем? \n",
    "\n",
    "Есть колонка 'decompiled_opcodes' - это и будет нашими фичами\n",
    "\n",
    "Malicious - наш таргет"
   ]
  },
  {
   "cell_type": "code",
   "execution_count": 64,
   "id": "c91b22ef-fe25-477b-80dc-b94adbbd6eff",
   "metadata": {},
   "outputs": [
    {
     "data": {
      "text/plain": [
       "malicious\n",
       "0    0.997506\n",
       "1    0.002494\n",
       "Name: count, dtype: float64"
      ]
     },
     "execution_count": 64,
     "metadata": {},
     "output_type": "execute_result"
    }
   ],
   "source": [
    "data.malicious.value_counts() / len(data)"
   ]
  },
  {
   "cell_type": "markdown",
   "id": "b3631169-8083-4d14-9f59-0bb34c9c4744",
   "metadata": {},
   "source": [
    "Как видно, у нас имеется значительный дисбаланс классов, что на самом деле и соответствует реальности. \n",
    "\n",
    "Как ни крути, не все юзеры блокчейна занимаются непотребствами."
   ]
  },
  {
   "cell_type": "markdown",
   "id": "b3c56b85-39f8-4e97-8946-37b6e56c0b39",
   "metadata": {},
   "source": [
    "## Предобработка данных (1 балл)"
   ]
  },
  {
   "cell_type": "markdown",
   "id": "45644f50-57ef-405c-95c6-37c088d112de",
   "metadata": {},
   "source": [
    "Давайте предобработаем данные, важно понимать что в байткоде будут иметься сигнатуры и адреса других контрактов\n",
    "\n",
    "Может ли это быть полезно?\n",
    "\n",
    "Это будет зависеть от вас\n",
    "\n",
    "В данной секции от вас ожидается предобработка данных\n",
    "\n",
    "Визуализация и анализ природы данных - необязательны, но желательны, если найдете что-то интересное - мы это вам зачтем в виде бонуса +1 балл :) "
   ]
  },
  {
   "cell_type": "markdown",
   "id": "c0b606dd",
   "metadata": {},
   "source": [
    "### Train / test split"
   ]
  },
  {
   "cell_type": "code",
   "execution_count": 65,
   "id": "cde03b4a-8ac4-4fbb-b230-ef2f1838e067",
   "metadata": {},
   "outputs": [],
   "source": [
    "from sklearn.model_selection import train_test_split"
   ]
  },
  {
   "cell_type": "code",
   "execution_count": 66,
   "id": "9faabf12-3227-497c-8d1a-921a1c873a7a",
   "metadata": {},
   "outputs": [],
   "source": [
    "X = data.drop(columns='malicious')\n",
    "y = data.malicious.astype(int)\n",
    "\n",
    "X_train, X_test, y_train, y_test = train_test_split( X, y, test_size=0.40, random_state=SEED, stratify=y)\n",
    "X_test, X_val, y_test, y_val = train_test_split( X_test, y_test, test_size=0.30, random_state=SEED, stratify=y_test)"
   ]
  },
  {
   "cell_type": "code",
   "execution_count": 68,
   "id": "6425cd96-b99c-4f8d-836a-ebd9b4fb672c",
   "metadata": {},
   "outputs": [],
   "source": [
    "## Вжух - ваш код тут"
   ]
  },
  {
   "cell_type": "markdown",
   "id": "e3faff89-e322-4fc1-9d58-92b75332e568",
   "metadata": {},
   "source": [
    "## Модель (5 баллов)"
   ]
  },
  {
   "cell_type": "markdown",
   "id": "28020221-4829-4ca0-8bc1-8b3b0c371dc1",
   "metadata": {},
   "source": [
    "Итак перед вами стоит задача классифицировать смарт-контракты.\n",
    "\n",
    "Представьте что вы глава проекта из https://cyvers.ai/ \n",
    "\n",
    "Вы разрабатываете софт для фондов, которые вкладывает деньги в различные DeFi протоколы и им важно своевременно выводить деньги.\n",
    "\n",
    "Перед вами стоит задача разработать предиктивный софт по DeFi безопасности, возникает несколько вопросов:\n",
    "\n",
    "1) Выбор модели на ваше усмотрение, помните что потом эту модель вам нужно будет использовать в инфраструктурном коде\n",
    "* хочется поэксперементировать с разными вариантами:\n",
    "    * бейзлайн -- выделить признаки каким-либо статистическим способом из текста (здесь мы выбрали самое сложное из простого -- )\n",
    "2) Помните, что модель нужна для своевременного реагирования на угрозу, важна ли здесь скорость инференса?\n",
    "3) Является ли более предпочтительной интепретируемость, либо более эффективная модель, но блек бокс?\n",
    "4) Как вы думаете, что важнее в нашей задаче precision или recall?\n",
    "5) Как именно вы будете работать с дисбалансом классом, а именно какую метрику выберете?\n",
    "\n",
    "Все это решать вам)\n",
    "\n",
    "Ваши рассуждения и комментарии в ноутбуке - также влияют на оценку, поэтому не стесняйтесь рассуждать, важна ваша мысль"
   ]
  },
  {
   "cell_type": "markdown",
   "id": "855423eb",
   "metadata": {},
   "source": [
    "### Baseline -- linear model / boosting on TF-IDF embeddings with ngrams"
   ]
  },
  {
   "cell_type": "code",
   "execution_count": 47,
   "id": "be28b36b-95c3-44a5-a59f-252ed88063f8",
   "metadata": {},
   "outputs": [],
   "source": [
    "from sklearn.feature_extraction.text import TfidfVectorizer\n",
    "\n",
    "vectorizer = TfidfVectorizer(ngram_range=(1, 1))"
   ]
  },
  {
   "cell_type": "code",
   "execution_count": 49,
   "id": "0d87f412",
   "metadata": {},
   "outputs": [
    {
     "name": "stdout",
     "output_type": "stream",
     "text": [
      "(50927, 526346)\n"
     ]
    }
   ],
   "source": [
    "from sklearn.feature_extraction.text import TfidfVectorizer\n",
    "\n",
    "X = vectorizer.fit_transform(data.decompiled_opcodes)\n",
    "vectorizer.get_feature_names_out()\n",
    "print(X.shape)"
   ]
  },
  {
   "cell_type": "code",
   "execution_count": 77,
   "id": "39343ede",
   "metadata": {},
   "outputs": [],
   "source": [
    "X_train_features = vectorizer.transform(X_train.decompiled_opcodes)"
   ]
  },
  {
   "cell_type": "code",
   "execution_count": 79,
   "id": "62afde5d",
   "metadata": {},
   "outputs": [],
   "source": [
    "from sklearn.linear_model import LogisticRegression\n",
    "\n",
    "clf = LogisticRegression(random_state=SEED,).fit(X_train_features, y_train)\n"
   ]
  },
  {
   "cell_type": "code",
   "execution_count": 80,
   "id": "76147d1e",
   "metadata": {},
   "outputs": [],
   "source": [
    "X_test_features = vectorizer.transform(X_test.decompiled_opcodes)"
   ]
  },
  {
   "cell_type": "code",
   "execution_count": 81,
   "id": "d81dea97",
   "metadata": {},
   "outputs": [],
   "source": [
    "y_pred_test = clf.predict(X_test_features)"
   ]
  },
  {
   "cell_type": "code",
   "execution_count": 84,
   "id": "0f68b2d0",
   "metadata": {},
   "outputs": [
    {
     "data": {
      "text/plain": [
       "0"
      ]
     },
     "execution_count": 84,
     "metadata": {},
     "output_type": "execute_result"
    }
   ],
   "source": [
    "y_pred_test.sum()"
   ]
  },
  {
   "cell_type": "code",
   "execution_count": 85,
   "id": "a862b81e",
   "metadata": {},
   "outputs": [
    {
     "data": {
      "text/plain": [
       "36"
      ]
     },
     "execution_count": 85,
     "metadata": {},
     "output_type": "execute_result"
    }
   ],
   "source": [
    "from sklearn.metr"
   ]
  },
  {
   "cell_type": "markdown",
   "id": "052e9e31-467b-4cbb-bf6a-0f7396b80944",
   "metadata": {},
   "source": [
    "## Анализ результатов и ваши метрики (1 балл)"
   ]
  },
  {
   "cell_type": "markdown",
   "id": "6685137e-a9b1-4ff3-9692-9337be50a779",
   "metadata": {},
   "source": [
    "### Посмотрим на метрики"
   ]
  },
  {
   "cell_type": "code",
   "execution_count": null,
   "id": "3bb659ad-48f0-49cf-9d40-b513e1949f1f",
   "metadata": {},
   "outputs": [],
   "source": [
    "y_pred = # ваши скоры на тесте\n",
    "y_pred_c = # метки класса на тесте\n",
    "y_test = # метки на тесте\n",
    "\n",
    "print('------------------------------------TESTING INFO-------------------------------------------------')\n",
    "# Метрики которые вы считаете важными\n",
    "print(f'F1 on test - {f1_score(y_test, y_pred_c)}')\n",
    "print(f'precision on test - {precision_score(y_test, y_pred_c)}')\n",
    "print(f'recall on test - {recall_score(y_test, y_pred_c)}')\n",
    "\n",
    "cm = confusion_matrix(y_test, y_pred_c, labels=[0,1])\n",
    "disp = ConfusionMatrixDisplay(confusion_matrix=cm,\n",
    "                              display_labels=[0,1])\n",
    "disp.plot()\n",
    "plt.show()"
   ]
  },
  {
   "cell_type": "markdown",
   "id": "ab37921f-0cb7-48f7-a9aa-ed982a7ba080",
   "metadata": {},
   "source": [
    "### Посмотрим на распределение скоров модели на тесте"
   ]
  },
  {
   "cell_type": "code",
   "execution_count": null,
   "id": "59631ac0-6ec6-4ff8-ab5b-e3651bb214f2",
   "metadata": {},
   "outputs": [],
   "source": [
    "plt.hist(y_pred[y_test==0])\n",
    "plt.show()\n",
    "plt.hist(y_pred[y_test==1])\n",
    "plt.show()"
   ]
  },
  {
   "cell_type": "markdown",
   "id": "cc9ae62b-75d6-4415-b0f9-994c61d25e3e",
   "metadata": {},
   "source": [
    "### Интерпретируемость модели"
   ]
  },
  {
   "cell_type": "code",
   "execution_count": 25,
   "id": "bcafb80f-c068-4704-8b03-aac99cea6910",
   "metadata": {},
   "outputs": [],
   "source": [
    "# Вжух ваша интерпретация если она есть как вы думаете логичны ли выводы?"
   ]
  },
  {
   "cell_type": "markdown",
   "id": "a1cb3cdc-da48-4327-a3d1-9a38dacce6e1",
   "metadata": {},
   "source": [
    "### Тесты на реальных данных"
   ]
  },
  {
   "cell_type": "markdown",
   "id": "dab0e838-0a72-4f16-aa6c-7ac80e0e47f3",
   "metadata": {},
   "source": [
    "Test for https://etherscan.io/address/0xcff07c4e6aa9e2fec04daaf5f41d1b10f3adadf4\n",
    "\n",
    "This is a https://rekt.news/teamfinance-rekt/ malicious contract"
   ]
  },
  {
   "cell_type": "code",
   "execution_count": null,
   "id": "54e300e0-8e2b-4ded-8668-54303c53b0af",
   "metadata": {
    "jupyter": {
     "source_hidden": true
    },
    "tags": []
   },
   "outputs": [],
   "source": [
    "from test_data import team_finance_exploit"
   ]
  },
  {
   "cell_type": "code",
   "execution_count": 26,
   "id": "b428b66c-bdb4-4163-84a2-aafa9592d8d2",
   "metadata": {},
   "outputs": [],
   "source": [
    "# Вжух посмотрим на результаты?"
   ]
  },
  {
   "cell_type": "markdown",
   "id": "a26830ca-96a4-48e0-9c7a-270194fdeb81",
   "metadata": {},
   "source": [
    "## Сохранение модели"
   ]
  },
  {
   "cell_type": "code",
   "execution_count": 28,
   "id": "1c1a7242-0a2a-4632-b20b-bb086ff0ed7e",
   "metadata": {},
   "outputs": [],
   "source": [
    "# Сохраняем в директорию Model/ и идем в инфраструктурную часть "
   ]
  },
  {
   "cell_type": "code",
   "execution_count": null,
   "id": "35d100e3-8d6d-45a3-b67e-2c538d2d46d9",
   "metadata": {},
   "outputs": [],
   "source": []
  }
 ],
 "metadata": {
  "kernelspec": {
   "display_name": "base_venv",
   "language": "python",
   "name": "base_venv"
  },
  "language_info": {
   "codemirror_mode": {
    "name": "ipython",
    "version": 3
   },
   "file_extension": ".py",
   "mimetype": "text/x-python",
   "name": "python",
   "nbconvert_exporter": "python",
   "pygments_lexer": "ipython3",
   "version": "3.10.13"
  }
 },
 "nbformat": 4,
 "nbformat_minor": 5
}
